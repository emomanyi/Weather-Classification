{
 "cells": [
  {
   "cell_type": "code",
   "execution_count": 1,
   "id": "a514093b",
   "metadata": {
    "execution": {
     "iopub.execute_input": "2021-12-24T07:11:13.088254Z",
     "iopub.status.busy": "2021-12-24T07:11:13.086805Z",
     "iopub.status.idle": "2021-12-24T07:11:13.096241Z",
     "shell.execute_reply": "2021-12-24T07:11:13.095727Z",
     "shell.execute_reply.started": "2021-12-24T06:54:00.344580Z"
    },
    "papermill": {
     "duration": 0.026869,
     "end_time": "2021-12-24T07:11:13.096366",
     "exception": false,
     "start_time": "2021-12-24T07:11:13.069497",
     "status": "completed"
    },
    "tags": []
   },
   "outputs": [],
   "source": [
    "import numpy as np\n",
    "import matplotlib.pyplot as plt"
   ]
  },
  {
   "cell_type": "code",
   "execution_count": 2,
   "id": "5d401f26",
   "metadata": {
    "execution": {
     "iopub.execute_input": "2021-12-24T07:11:13.124729Z",
     "iopub.status.busy": "2021-12-24T07:11:13.124148Z",
     "iopub.status.idle": "2021-12-24T07:11:17.312477Z",
     "shell.execute_reply": "2021-12-24T07:11:17.312002Z",
     "shell.execute_reply.started": "2021-12-24T06:54:03.073449Z"
    },
    "papermill": {
     "duration": 4.203528,
     "end_time": "2021-12-24T07:11:17.312632",
     "exception": false,
     "start_time": "2021-12-24T07:11:13.109104",
     "status": "completed"
    },
    "tags": []
   },
   "outputs": [],
   "source": [
    "import tensorflow as tf\n",
    "from tensorflow import keras"
   ]
  },
  {
   "cell_type": "code",
   "execution_count": 3,
   "id": "630cdb98",
   "metadata": {
    "execution": {
     "iopub.execute_input": "2021-12-24T07:11:17.345366Z",
     "iopub.status.busy": "2021-12-24T07:11:17.344673Z",
     "iopub.status.idle": "2021-12-24T07:11:18.341183Z",
     "shell.execute_reply": "2021-12-24T07:11:18.340099Z",
     "shell.execute_reply.started": "2021-12-24T06:54:08.473491Z"
    },
    "papermill": {
     "duration": 1.013635,
     "end_time": "2021-12-24T07:11:18.341307",
     "exception": false,
     "start_time": "2021-12-24T07:11:17.327672",
     "status": "completed"
    },
    "tags": []
   },
   "outputs": [],
   "source": [
    "from tensorflow.keras.preprocessing.image import ImageDataGenerator\n",
    "from tensorflow.keras.preprocessing.image import load_img"
   ]
  },
  {
   "cell_type": "code",
   "execution_count": 4,
   "id": "a395118a",
   "metadata": {
    "execution": {
     "iopub.execute_input": "2021-12-24T07:11:18.371432Z",
     "iopub.status.busy": "2021-12-24T07:11:18.370754Z",
     "iopub.status.idle": "2021-12-24T07:11:18.374004Z",
     "shell.execute_reply": "2021-12-24T07:11:18.373554Z",
     "shell.execute_reply.started": "2021-12-24T06:54:13.233442Z"
    },
    "papermill": {
     "duration": 0.020253,
     "end_time": "2021-12-24T07:11:18.374107",
     "exception": false,
     "start_time": "2021-12-24T07:11:18.353854",
     "status": "completed"
    },
    "tags": []
   },
   "outputs": [],
   "source": [
    "from tensorflow.keras.applications.xception import Xception\n",
    "from tensorflow.keras.applications.xception import preprocess_input"
   ]
  },
  {
   "cell_type": "code",
   "execution_count": 5,
   "id": "fd79578b",
   "metadata": {
    "execution": {
     "iopub.execute_input": "2021-12-24T07:11:18.402803Z",
     "iopub.status.busy": "2021-12-24T07:11:18.402184Z",
     "iopub.status.idle": "2021-12-24T07:11:18.515113Z",
     "shell.execute_reply": "2021-12-24T07:11:18.515487Z",
     "shell.execute_reply.started": "2021-12-24T06:54:36.733809Z"
    },
    "papermill": {
     "duration": 0.129288,
     "end_time": "2021-12-24T07:11:18.515640",
     "exception": false,
     "start_time": "2021-12-24T07:11:18.386352",
     "status": "completed"
    },
    "tags": []
   },
   "outputs": [
    {
     "name": "stdout",
     "output_type": "stream",
     "text": [
      "Found 901 images belonging to 4 classes.\n"
     ]
    }
   ],
   "source": [
    "train_gen = ImageDataGenerator(preprocessing_function=preprocess_input)\n",
    "train_ds = train_gen.flow_from_directory(directory='../input/weather/train',\n",
    "                                         target_size=(150,150), \n",
    "                                         color_mode='rgb',\n",
    "                                        shuffle=True)"
   ]
  },
  {
   "cell_type": "code",
   "execution_count": 6,
   "id": "5b36db39",
   "metadata": {
    "execution": {
     "iopub.execute_input": "2021-12-24T07:11:18.545237Z",
     "iopub.status.busy": "2021-12-24T07:11:18.544629Z",
     "iopub.status.idle": "2021-12-24T07:11:18.652327Z",
     "shell.execute_reply": "2021-12-24T07:11:18.653190Z",
     "shell.execute_reply.started": "2021-12-24T06:54:55.590080Z"
    },
    "papermill": {
     "duration": 0.124847,
     "end_time": "2021-12-24T07:11:18.653372",
     "exception": false,
     "start_time": "2021-12-24T07:11:18.528525",
     "status": "completed"
    },
    "tags": []
   },
   "outputs": [
    {
     "name": "stdout",
     "output_type": "stream",
     "text": [
      "Found 224 images belonging to 4 classes.\n"
     ]
    }
   ],
   "source": [
    "\n",
    "\n",
    "val_gen = ImageDataGenerator(preprocessing_function=preprocess_input)\n",
    "val_ds = val_gen.flow_from_directory(directory='../input/weather/validation',\n",
    "                                         target_size=(150,150), \n",
    "                                         color_mode='rgb',\n",
    "                                        shuffle=False)"
   ]
  },
  {
   "cell_type": "code",
   "execution_count": 7,
   "id": "d696bb6d",
   "metadata": {
    "execution": {
     "iopub.execute_input": "2021-12-24T07:11:18.687395Z",
     "iopub.status.busy": "2021-12-24T07:11:18.686896Z",
     "iopub.status.idle": "2021-12-24T07:11:23.162944Z",
     "shell.execute_reply": "2021-12-24T07:11:23.161649Z",
     "shell.execute_reply.started": "2021-12-24T06:57:04.184204Z"
    },
    "papermill": {
     "duration": 4.496327,
     "end_time": "2021-12-24T07:11:23.163098",
     "exception": false,
     "start_time": "2021-12-24T07:11:18.666771",
     "status": "completed"
    },
    "tags": []
   },
   "outputs": [
    {
     "name": "stderr",
     "output_type": "stream",
     "text": [
      "2021-12-24 07:11:18.774248: I tensorflow/stream_executor/cuda/cuda_gpu_executor.cc:937] successful NUMA node read from SysFS had negative value (-1), but there must be at least one NUMA node, so returning NUMA node zero\n",
      "2021-12-24 07:11:18.874554: I tensorflow/stream_executor/cuda/cuda_gpu_executor.cc:937] successful NUMA node read from SysFS had negative value (-1), but there must be at least one NUMA node, so returning NUMA node zero\n",
      "2021-12-24 07:11:18.875240: I tensorflow/stream_executor/cuda/cuda_gpu_executor.cc:937] successful NUMA node read from SysFS had negative value (-1), but there must be at least one NUMA node, so returning NUMA node zero\n",
      "2021-12-24 07:11:18.876512: I tensorflow/core/platform/cpu_feature_guard.cc:142] This TensorFlow binary is optimized with oneAPI Deep Neural Network Library (oneDNN) to use the following CPU instructions in performance-critical operations:  AVX2 AVX512F FMA\n",
      "To enable them in other operations, rebuild TensorFlow with the appropriate compiler flags.\n",
      "2021-12-24 07:11:18.877724: I tensorflow/stream_executor/cuda/cuda_gpu_executor.cc:937] successful NUMA node read from SysFS had negative value (-1), but there must be at least one NUMA node, so returning NUMA node zero\n",
      "2021-12-24 07:11:18.878367: I tensorflow/stream_executor/cuda/cuda_gpu_executor.cc:937] successful NUMA node read from SysFS had negative value (-1), but there must be at least one NUMA node, so returning NUMA node zero\n",
      "2021-12-24 07:11:18.879004: I tensorflow/stream_executor/cuda/cuda_gpu_executor.cc:937] successful NUMA node read from SysFS had negative value (-1), but there must be at least one NUMA node, so returning NUMA node zero\n",
      "2021-12-24 07:11:20.762301: I tensorflow/stream_executor/cuda/cuda_gpu_executor.cc:937] successful NUMA node read from SysFS had negative value (-1), but there must be at least one NUMA node, so returning NUMA node zero\n",
      "2021-12-24 07:11:20.763232: I tensorflow/stream_executor/cuda/cuda_gpu_executor.cc:937] successful NUMA node read from SysFS had negative value (-1), but there must be at least one NUMA node, so returning NUMA node zero\n",
      "2021-12-24 07:11:20.763984: I tensorflow/stream_executor/cuda/cuda_gpu_executor.cc:937] successful NUMA node read from SysFS had negative value (-1), but there must be at least one NUMA node, so returning NUMA node zero\n",
      "2021-12-24 07:11:20.764538: I tensorflow/core/common_runtime/gpu/gpu_device.cc:1510] Created device /job:localhost/replica:0/task:0/device:GPU:0 with 15403 MB memory:  -> device: 0, name: Tesla P100-PCIE-16GB, pci bus id: 0000:00:04.0, compute capability: 6.0\n"
     ]
    },
    {
     "name": "stdout",
     "output_type": "stream",
     "text": [
      "Downloading data from https://storage.googleapis.com/tensorflow/keras-applications/xception/xception_weights_tf_dim_ordering_tf_kernels_notop.h5\n",
      "83689472/83683744 [==============================] - 1s 0us/step\n",
      "83697664/83683744 [==============================] - 1s 0us/step\n"
     ]
    }
   ],
   "source": [
    "base_model = Xception(include_top=False, \n",
    "                      weights='imagenet',\n",
    "                      input_shape=(150,150,3))\n",
    "base_model.trainable = False\n",
    "\n",
    "inputs = keras.Input(shape=(150,150,3))\n",
    "base = base_model(inputs, training=False)\n",
    "vectors = keras.layers.GlobalAveragePooling2D()(base)\n",
    "layer1 = keras.layers.Dense(64,activation='relu')(vectors)\n",
    "drop2 = keras.layers.Dropout(rate=0.4)(layer1)\n",
    "output = keras.layers.Dense(4,activation='softmax')(drop2)\n",
    "\n",
    "model = keras.Model(inputs, output)"
   ]
  },
  {
   "cell_type": "code",
   "execution_count": 8,
   "id": "aac99360",
   "metadata": {
    "execution": {
     "iopub.execute_input": "2021-12-24T07:11:23.219271Z",
     "iopub.status.busy": "2021-12-24T07:11:23.218343Z",
     "iopub.status.idle": "2021-12-24T07:11:23.224143Z",
     "shell.execute_reply": "2021-12-24T07:11:23.223653Z",
     "shell.execute_reply.started": "2021-12-24T06:57:14.453331Z"
    },
    "papermill": {
     "duration": 0.039678,
     "end_time": "2021-12-24T07:11:23.224266",
     "exception": false,
     "start_time": "2021-12-24T07:11:23.184588",
     "status": "completed"
    },
    "tags": []
   },
   "outputs": [
    {
     "name": "stdout",
     "output_type": "stream",
     "text": [
      "Model: \"model\"\n",
      "_________________________________________________________________\n",
      "Layer (type)                 Output Shape              Param #   \n",
      "=================================================================\n",
      "input_2 (InputLayer)         [(None, 150, 150, 3)]     0         \n",
      "_________________________________________________________________\n",
      "xception (Functional)        (None, 5, 5, 2048)        20861480  \n",
      "_________________________________________________________________\n",
      "global_average_pooling2d (Gl (None, 2048)              0         \n",
      "_________________________________________________________________\n",
      "dense (Dense)                (None, 64)                131136    \n",
      "_________________________________________________________________\n",
      "dropout (Dropout)            (None, 64)                0         \n",
      "_________________________________________________________________\n",
      "dense_1 (Dense)              (None, 4)                 260       \n",
      "=================================================================\n",
      "Total params: 20,992,876\n",
      "Trainable params: 131,396\n",
      "Non-trainable params: 20,861,480\n",
      "_________________________________________________________________\n"
     ]
    }
   ],
   "source": [
    "model.summary()"
   ]
  },
  {
   "cell_type": "code",
   "execution_count": 9,
   "id": "ece44e5f",
   "metadata": {
    "execution": {
     "iopub.execute_input": "2021-12-24T07:11:23.271405Z",
     "iopub.status.busy": "2021-12-24T07:11:23.269612Z",
     "iopub.status.idle": "2021-12-24T07:11:23.272098Z",
     "shell.execute_reply": "2021-12-24T07:11:23.272585Z"
    },
    "papermill": {
     "duration": 0.028005,
     "end_time": "2021-12-24T07:11:23.272732",
     "exception": false,
     "start_time": "2021-12-24T07:11:23.244727",
     "status": "completed"
    },
    "tags": []
   },
   "outputs": [],
   "source": [
    "callback = keras.callbacks.ModelCheckpoint('w_{epoch}_{val_accuracy:.3f}.h5',save_best_only=True)"
   ]
  },
  {
   "cell_type": "code",
   "execution_count": 10,
   "id": "d05009c9",
   "metadata": {
    "execution": {
     "iopub.execute_input": "2021-12-24T07:11:23.319493Z",
     "iopub.status.busy": "2021-12-24T07:11:23.318667Z",
     "iopub.status.idle": "2021-12-24T07:11:23.326068Z",
     "shell.execute_reply": "2021-12-24T07:11:23.325216Z",
     "shell.execute_reply.started": "2021-12-24T06:57:32.164566Z"
    },
    "papermill": {
     "duration": 0.033824,
     "end_time": "2021-12-24T07:11:23.326172",
     "exception": false,
     "start_time": "2021-12-24T07:11:23.292348",
     "status": "completed"
    },
    "tags": []
   },
   "outputs": [],
   "source": [
    "optimizer = keras.optimizers.Adam(learning_rate=0.001)\n",
    "loss = keras.losses.CategoricalCrossentropy()\n",
    "\n",
    "model.compile(optimizer=optimizer, loss = loss,metrics=['accuracy'])"
   ]
  },
  {
   "cell_type": "code",
   "execution_count": 11,
   "id": "98ef1dc2",
   "metadata": {
    "execution": {
     "iopub.execute_input": "2021-12-24T07:11:23.367422Z",
     "iopub.status.busy": "2021-12-24T07:11:23.366430Z",
     "iopub.status.idle": "2021-12-24T07:13:39.073266Z",
     "shell.execute_reply": "2021-12-24T07:13:39.073759Z",
     "shell.execute_reply.started": "2021-12-24T06:57:34.603590Z"
    },
    "papermill": {
     "duration": 135.730532,
     "end_time": "2021-12-24T07:13:39.073948",
     "exception": false,
     "start_time": "2021-12-24T07:11:23.343416",
     "status": "completed"
    },
    "tags": []
   },
   "outputs": [
    {
     "name": "stderr",
     "output_type": "stream",
     "text": [
      "2021-12-24 07:11:23.702253: I tensorflow/compiler/mlir/mlir_graph_optimization_pass.cc:185] None of the MLIR Optimization Passes are enabled (registered 2)\n"
     ]
    },
    {
     "name": "stdout",
     "output_type": "stream",
     "text": [
      "Epoch 1/15\n"
     ]
    },
    {
     "name": "stderr",
     "output_type": "stream",
     "text": [
      "2021-12-24 07:11:27.484178: I tensorflow/stream_executor/cuda/cuda_dnn.cc:369] Loaded cuDNN version 8005\n"
     ]
    },
    {
     "name": "stdout",
     "output_type": "stream",
     "text": [
      "29/29 [==============================] - 21s 421ms/step - loss: 0.7017 - accuracy: 0.7392 - val_loss: 0.2991 - val_accuracy: 0.9018\n"
     ]
    },
    {
     "name": "stderr",
     "output_type": "stream",
     "text": [
      "/opt/conda/lib/python3.7/site-packages/keras/utils/generic_utils.py:497: CustomMaskWarning: Custom mask layers require a config and must override get_config. When loading, the custom mask layer must be passed to the custom_objects argument.\n",
      "  category=CustomMaskWarning)\n"
     ]
    },
    {
     "name": "stdout",
     "output_type": "stream",
     "text": [
      "Epoch 2/15\n",
      "29/29 [==============================] - 7s 261ms/step - loss: 0.2851 - accuracy: 0.9112 - val_loss: 0.2232 - val_accuracy: 0.9464\n",
      "Epoch 3/15\n",
      "29/29 [==============================] - 7s 262ms/step - loss: 0.1993 - accuracy: 0.9356 - val_loss: 0.1949 - val_accuracy: 0.9330\n",
      "Epoch 4/15\n",
      "29/29 [==============================] - 7s 247ms/step - loss: 0.1615 - accuracy: 0.9489 - val_loss: 0.1769 - val_accuracy: 0.9330\n",
      "Epoch 5/15\n",
      "29/29 [==============================] - 8s 266ms/step - loss: 0.1182 - accuracy: 0.9700 - val_loss: 0.1695 - val_accuracy: 0.9420\n",
      "Epoch 6/15\n",
      "29/29 [==============================] - 7s 259ms/step - loss: 0.1029 - accuracy: 0.9745 - val_loss: 0.1662 - val_accuracy: 0.9464\n",
      "Epoch 7/15\n",
      "29/29 [==============================] - 7s 240ms/step - loss: 0.0975 - accuracy: 0.9723 - val_loss: 0.1465 - val_accuracy: 0.9598\n",
      "Epoch 8/15\n",
      "29/29 [==============================] - 7s 258ms/step - loss: 0.1120 - accuracy: 0.9623 - val_loss: 0.1539 - val_accuracy: 0.9554\n",
      "Epoch 9/15\n",
      "29/29 [==============================] - 8s 289ms/step - loss: 0.0646 - accuracy: 0.9811 - val_loss: 0.1308 - val_accuracy: 0.9643\n",
      "Epoch 10/15\n",
      "29/29 [==============================] - 9s 324ms/step - loss: 0.0673 - accuracy: 0.9789 - val_loss: 0.1279 - val_accuracy: 0.9598\n",
      "Epoch 11/15\n",
      "29/29 [==============================] - 9s 295ms/step - loss: 0.0607 - accuracy: 0.9856 - val_loss: 0.1318 - val_accuracy: 0.9509\n",
      "Epoch 12/15\n",
      "29/29 [==============================] - 7s 249ms/step - loss: 0.0461 - accuracy: 0.9889 - val_loss: 0.1271 - val_accuracy: 0.9554\n",
      "Epoch 13/15\n",
      "29/29 [==============================] - 8s 264ms/step - loss: 0.0475 - accuracy: 0.9867 - val_loss: 0.1246 - val_accuracy: 0.9554\n",
      "Epoch 14/15\n",
      "29/29 [==============================] - 8s 269ms/step - loss: 0.0391 - accuracy: 0.9911 - val_loss: 0.1255 - val_accuracy: 0.9598\n",
      "Epoch 15/15\n",
      "29/29 [==============================] - 7s 250ms/step - loss: 0.0328 - accuracy: 0.9956 - val_loss: 0.1264 - val_accuracy: 0.9554\n"
     ]
    }
   ],
   "source": [
    "history = model.fit(train_ds, batch_size=20, epochs=15,validation_data=val_ds, callbacks=[callback])"
   ]
  },
  {
   "cell_type": "code",
   "execution_count": null,
   "id": "1bab8fba",
   "metadata": {
    "papermill": {
     "duration": 0.135315,
     "end_time": "2021-12-24T07:13:39.342739",
     "exception": false,
     "start_time": "2021-12-24T07:13:39.207424",
     "status": "completed"
    },
    "tags": []
   },
   "outputs": [],
   "source": []
  },
  {
   "cell_type": "code",
   "execution_count": 12,
   "id": "1ad30f5c",
   "metadata": {
    "execution": {
     "iopub.execute_input": "2021-12-24T07:13:39.608762Z",
     "iopub.status.busy": "2021-12-24T07:13:39.607958Z",
     "iopub.status.idle": "2021-12-24T07:13:39.809061Z",
     "shell.execute_reply": "2021-12-24T07:13:39.808288Z",
     "shell.execute_reply.started": "2021-12-24T07:00:35.697698Z"
    },
    "papermill": {
     "duration": 0.33289,
     "end_time": "2021-12-24T07:13:39.809185",
     "exception": false,
     "start_time": "2021-12-24T07:13:39.476295",
     "status": "completed"
    },
    "tags": []
   },
   "outputs": [
    {
     "data": {
      "image/png": "[encoded data removed]",
      "text/plain": [
       "<Figure size 432x288 with 1 Axes>"
      ]
     },
     "metadata": {
      "needs_background": "light"
     },
     "output_type": "display_data"
    }
   ],
   "source": [
    "plt.plot(history.history['val_accuracy'], label='validation')\n",
    "plt.plot(history.history['accuracy'], label='training')\n",
    "plt.legend()\n",
    "plt.show()"
   ]
  },
  {
   "cell_type": "code",
   "execution_count": 13,
   "id": "74cf376c",
   "metadata": {
    "execution": {
     "iopub.execute_input": "2021-12-24T07:13:40.074738Z",
     "iopub.status.busy": "2021-12-24T07:13:40.074171Z",
     "iopub.status.idle": "2021-12-24T07:13:40.287643Z",
     "shell.execute_reply": "2021-12-24T07:13:40.288072Z",
     "shell.execute_reply.started": "2021-12-24T07:03:43.779336Z"
    },
    "papermill": {
     "duration": 0.347952,
     "end_time": "2021-12-24T07:13:40.288222",
     "exception": false,
     "start_time": "2021-12-24T07:13:39.940270",
     "status": "completed"
    },
    "tags": []
   },
   "outputs": [
    {
     "data": {
      "image/png": "[encoded data removed]",
      "text/plain": [
       "<PIL.Image.Image image mode=RGB size=150x150 at 0x7F8138B269D0>"
      ]
     },
     "execution_count": 13,
     "metadata": {},
     "output_type": "execute_result"
    }
   ],
   "source": [
    "img = load_img('../input/cloudimage/cloud.jpg', target_size=(150,150))\n",
    "img"
   ]
  },
  {
   "cell_type": "code",
   "execution_count": 14,
   "id": "f35fc00d",
   "metadata": {
    "execution": {
     "iopub.execute_input": "2021-12-24T07:13:40.557422Z",
     "iopub.status.busy": "2021-12-24T07:13:40.556537Z",
     "iopub.status.idle": "2021-12-24T07:13:40.563106Z",
     "shell.execute_reply": "2021-12-24T07:13:40.562651Z",
     "shell.execute_reply.started": "2021-12-24T07:05:03.077624Z"
    },
    "papermill": {
     "duration": 0.14258,
     "end_time": "2021-12-24T07:13:40.563226",
     "exception": false,
     "start_time": "2021-12-24T07:13:40.420646",
     "status": "completed"
    },
    "tags": []
   },
   "outputs": [
    {
     "data": {
      "text/plain": [
       "array([[[-0.6313726 , -0.32549018,  0.18431377],\n",
       "        [-0.70980394, -0.35686272,  0.1686275 ],\n",
       "        [-0.75686276, -0.35686272,  0.13725495],\n",
       "        ...,\n",
       "        [-0.34117645,  0.16078436,  0.99215686],\n",
       "        [-0.64705884, -0.01176471,  0.8901961 ],\n",
       "        [-0.6862745 , -0.01176471,  0.9372549 ]],\n",
       "\n",
       "       [[-0.3490196 , -0.17647058,  0.27058828],\n",
       "        [-0.3960784 , -0.15294117,  0.27058828],\n",
       "        [-0.5294118 , -0.23137254,  0.254902  ],\n",
       "        ...,\n",
       "        [-0.40392154,  0.13725495,  0.94509804],\n",
       "        [-0.54509807,  0.082353  ,  0.9529412 ],\n",
       "        [-0.7254902 ,  0.0196079 ,  0.9607843 ]],\n",
       "\n",
       "       [[-0.35686272, -0.19999999,  0.20000005],\n",
       "        [-0.23921567, -0.09803921,  0.21568632],\n",
       "        [-0.06666666,  0.0196079 ,  0.23921573],\n",
       "        ...,\n",
       "        [-0.44313723,  0.17647064,  0.96862745],\n",
       "        [-0.6       ,  0.06666672,  0.90588236],\n",
       "        [-0.69411767, -0.01960784,  0.9137255 ]],\n",
       "\n",
       "       ...,\n",
       "\n",
       "       [[-0.7882353 , -0.372549  , -0.12156862],\n",
       "        [-0.654902  , -0.20784312,  0.02745104],\n",
       "        [-0.56078434,  0.00392163,  0.20000005],\n",
       "        ...,\n",
       "        [-0.9372549 , -0.36470586,  0.3803922 ],\n",
       "        [-0.7019608 , -0.23137254,  0.4431373 ],\n",
       "        [-0.9529412 , -0.6156863 ,  0.10588241]],\n",
       "\n",
       "       [[-0.92156863, -0.36470586, -0.11372548],\n",
       "        [-0.8117647 , -0.23137254, -0.00392157],\n",
       "        [-0.75686276, -0.21568626,  0.10588241],\n",
       "        ...,\n",
       "        [-0.8745098 , -0.5137255 ,  0.23921573],\n",
       "        [-0.92941177, -0.62352943,  0.18431377],\n",
       "        [-0.92941177, -0.5137255 ,  0.20784318]],\n",
       "\n",
       "       [[-0.40392154,  0.09019613,  0.33333337],\n",
       "        [-0.40392154,  0.12156868,  0.34901965],\n",
       "        [-0.5529412 ,  0.02745104,  0.22352946],\n",
       "        ...,\n",
       "        [-0.92156863, -0.56078434,  0.17647064],\n",
       "        [-0.9529412 , -0.60784316,  0.1686275 ],\n",
       "        [-0.92941177, -0.5294118 ,  0.18431377]]], dtype=float32)"
      ]
     },
     "execution_count": 14,
     "metadata": {},
     "output_type": "execute_result"
    }
   ],
   "source": [
    "X = np.array(img)\n",
    "X = preprocess_input(X)\n",
    "X"
   ]
  },
  {
   "cell_type": "code",
   "execution_count": 15,
   "id": "eff4d0d6",
   "metadata": {
    "execution": {
     "iopub.execute_input": "2021-12-24T07:13:40.840719Z",
     "iopub.status.busy": "2021-12-24T07:13:40.839943Z",
     "iopub.status.idle": "2021-12-24T07:13:41.615529Z",
     "shell.execute_reply": "2021-12-24T07:13:41.615078Z",
     "shell.execute_reply.started": "2021-12-24T07:05:42.763381Z"
    },
    "papermill": {
     "duration": 0.91331,
     "end_time": "2021-12-24T07:13:41.615694",
     "exception": false,
     "start_time": "2021-12-24T07:13:40.702384",
     "status": "completed"
    },
    "tags": []
   },
   "outputs": [
    {
     "data": {
      "text/plain": [
       "array([[2.0847314e-04, 6.9143098e-05, 9.9969113e-01, 3.1219613e-05]],\n",
       "      dtype=float32)"
      ]
     },
     "execution_count": 15,
     "metadata": {},
     "output_type": "execute_result"
    }
   ],
   "source": [
    "model.predict(np.array([X]))"
   ]
  },
  {
   "cell_type": "code",
   "execution_count": 16,
   "id": "526f1263",
   "metadata": {
    "execution": {
     "iopub.execute_input": "2021-12-24T07:13:41.893996Z",
     "iopub.status.busy": "2021-12-24T07:13:41.893366Z",
     "iopub.status.idle": "2021-12-24T07:13:41.895977Z",
     "shell.execute_reply": "2021-12-24T07:13:41.896378Z",
     "shell.execute_reply.started": "2021-12-24T07:09:33.362036Z"
    },
    "papermill": {
     "duration": 0.140044,
     "end_time": "2021-12-24T07:13:41.896507",
     "exception": false,
     "start_time": "2021-12-24T07:13:41.756463",
     "status": "completed"
    },
    "tags": []
   },
   "outputs": [
    {
     "data": {
      "text/plain": [
       "{'cloudy': 0, 'rain': 1, 'shine': 2, 'sunrise': 3}"
      ]
     },
     "execution_count": 16,
     "metadata": {},
     "output_type": "execute_result"
    }
   ],
   "source": [
    "val_ds.class_indices"
   ]
  },
  {
   "cell_type": "code",
   "execution_count": null,
   "id": "76361938",
   "metadata": {
    "papermill": {
     "duration": 0.132815,
     "end_time": "2021-12-24T07:13:42.162622",
     "exception": false,
     "start_time": "2021-12-24T07:13:42.029807",
     "status": "completed"
    },
    "tags": []
   },
   "outputs": [],
   "source": []
  }
 ],
 "metadata": {
  "kernelspec": {
   "display_name": "Python 3",
   "language": "python",
   "name": "python3"
  },
  "language_info": {
   "codemirror_mode": {
    "name": "ipython",
    "version": 3
   },
   "file_extension": ".py",
   "mimetype": "text/x-python",
   "name": "python",
   "nbconvert_exporter": "python",
   "pygments_lexer": "ipython3",
   "version": "3.7.12"
  },
  "papermill": {
   "default_parameters": {},
   "duration": 161.3712,
   "end_time": "2021-12-24T07:13:46.000270",
   "environment_variables": {},
   "exception": null,
   "input_path": "__notebook__.ipynb",
   "output_path": "__notebook__.ipynb",
   "parameters": {},
   "start_time": "2021-12-24T07:11:04.629070",
   "version": "2.3.3"
  }
 },
 "nbformat": 4,
 "nbformat_minor": 5
}
